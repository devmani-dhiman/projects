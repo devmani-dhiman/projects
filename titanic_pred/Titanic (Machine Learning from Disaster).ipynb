{
 "cells": [
  {
   "cell_type": "markdown",
   "metadata": {},
   "source": [
    "Start here! Predict survival on the Titanic and get familiar with ML basics\n",
    "\n",
    "The data has been split into two groups:\n",
    "\n",
    "training set (train.csv)\n",
    "test set (test.csv)\n",
    "The training set should be used to build your machine learning models. For the training set, we provide the outcome (also known as the “ground truth”) for each passenger. Your model will be based on “features” like passengers’ gender and class. You can also use feature engineering to create new features.\n",
    "\n",
    "The test set should be used to see how well your model performs on unseen data. For the test set, we do not provide the ground truth for each passenger. It is your job to predict these outcomes. For each passenger in the test set, use the model you trained to predict whether or not they survived the sinking of the Titanic.\n",
    "\n",
    "We also include **gender_submission.csv**, a set of predictions that assume all and only female passengers survive, as an example of what a submission file should look like."
   ]
  },
  {
   "cell_type": "code",
   "execution_count": 1,
   "metadata": {},
   "outputs": [
    {
     "name": "stdout",
     "output_type": "stream",
     "text": [
      "<class 'pandas.core.frame.DataFrame'>\n",
      "RangeIndex: 891 entries, 0 to 890\n",
      "Data columns (total 12 columns):\n",
      " #   Column       Non-Null Count  Dtype  \n",
      "---  ------       --------------  -----  \n",
      " 0   PassengerId  891 non-null    int64  \n",
      " 1   Survived     891 non-null    int64  \n",
      " 2   Pclass       891 non-null    int64  \n",
      " 3   Name         891 non-null    object \n",
      " 4   Sex          891 non-null    object \n",
      " 5   Age          714 non-null    float64\n",
      " 6   SibSp        891 non-null    int64  \n",
      " 7   Parch        891 non-null    int64  \n",
      " 8   Ticket       891 non-null    object \n",
      " 9   Fare         891 non-null    float64\n",
      " 10  Cabin        204 non-null    object \n",
      " 11  Embarked     889 non-null    object \n",
      "dtypes: float64(2), int64(5), object(5)\n",
      "memory usage: 83.7+ KB\n",
      "None\n",
      "       PassengerId    Survived      Pclass         Age       SibSp  \\\n",
      "count   891.000000  891.000000  891.000000  714.000000  891.000000   \n",
      "mean    446.000000    0.383838    2.308642   29.699118    0.523008   \n",
      "std     257.353842    0.486592    0.836071   14.526497    1.102743   \n",
      "min       1.000000    0.000000    1.000000    0.420000    0.000000   \n",
      "25%     223.500000    0.000000    2.000000   20.125000    0.000000   \n",
      "50%     446.000000    0.000000    3.000000   28.000000    0.000000   \n",
      "75%     668.500000    1.000000    3.000000   38.000000    1.000000   \n",
      "max     891.000000    1.000000    3.000000   80.000000    8.000000   \n",
      "\n",
      "            Parch        Fare  \n",
      "count  891.000000  891.000000  \n",
      "mean     0.381594   32.204208  \n",
      "std      0.806057   49.693429  \n",
      "min      0.000000    0.000000  \n",
      "25%      0.000000    7.910400  \n",
      "50%      0.000000   14.454200  \n",
      "75%      0.000000   31.000000  \n",
      "max      6.000000  512.329200  \n",
      "                                   Name   Sex Ticket        Cabin Embarked\n",
      "count                               891   891    891          204      889\n",
      "unique                              891     2    681          147        3\n",
      "top     Sandstrom, Miss. Marguerite Rut  male   1601  C23 C25 C27        S\n",
      "freq                                  1   577      7            4      644\n"
     ]
    }
   ],
   "source": [
    "import numpy as np\n",
    "import pandas as pd\n",
    "\n",
    "##Checking Summary statistics\n",
    "\n",
    "train_data = pd.read_csv(\"train.csv\") \n",
    "test_data = pd.read_csv(\"test.csv\")\n",
    "\n",
    "#print(train_data.head())\n",
    "print(train_data.info())\n",
    "print(train_data.describe())\n",
    "print(train_data.describe(include = ['O']))"
   ]
  },
  {
   "cell_type": "code",
   "execution_count": 2,
   "metadata": {},
   "outputs": [
    {
     "name": "stdout",
     "output_type": "stream",
     "text": [
      "     Survived  Pclass     Sex   Age  SibSp  Parch     Fare Embarked\n",
      "0           0       3    male  22.0      1      0   7.2500        S\n",
      "1           1       1  female  38.0      1      0  71.2833        C\n",
      "2           1       3  female  26.0      0      0   7.9250        S\n",
      "3           1       1  female  35.0      1      0  53.1000        S\n",
      "4           0       3    male  35.0      0      0   8.0500        S\n",
      "..        ...     ...     ...   ...    ...    ...      ...      ...\n",
      "886         0       2    male  27.0      0      0  13.0000        S\n",
      "887         1       1  female  19.0      0      0  30.0000        S\n",
      "888         0       3  female   NaN      1      2  23.4500        S\n",
      "889         1       1    male  26.0      0      0  30.0000        C\n",
      "890         0       3    male  32.0      0      0   7.7500        Q\n",
      "\n",
      "[891 rows x 8 columns]\n"
     ]
    }
   ],
   "source": [
    "##dropping the unnecessary columns\n",
    "train = train_data.drop(columns = [\"PassengerId\",\"Name\", \"Ticket\", 'Cabin'])\n",
    "print(train)"
   ]
  },
  {
   "cell_type": "code",
   "execution_count": 3,
   "metadata": {},
   "outputs": [
    {
     "data": {
      "image/png": "[encoded data removed]",
      "text/plain": [
       "<Figure size 432x288 with 1 Axes>"
      ]
     },
     "metadata": {
      "needs_background": "light"
     },
     "output_type": "display_data"
    }
   ],
   "source": [
    "##Data Visualization and Exploration\n",
    "\n",
    "import matplotlib.pyplot as plt\n",
    "import seaborn as sns\n",
    "\n",
    "train.Survived.value_counts().plot(kind= 'bar')\n",
    "plt.title(\"Distribution of Survival (Survival = 1)\")\n",
    "plt.ylabel(\"No. of People\")\n",
    "plt.show()"
   ]
  },
  {
   "cell_type": "code",
   "execution_count": 4,
   "metadata": {},
   "outputs": [
    {
     "data": {
      "text/plain": [
       "<seaborn.axisgrid.FacetGrid at 0x24a70737348>"
      ]
     },
     "execution_count": 4,
     "metadata": {},
     "output_type": "execute_result"
    },
    {
     "data": {
      "image/png": "[encoded data removed]",
      "text/plain": [
       "<Figure size 432x216 with 2 Axes>"
      ]
     },
     "metadata": {
      "needs_background": "light"
     },
     "output_type": "display_data"
    },
    {
     "data": {
      "image/png": "[encoded data removed]",
      "text/plain": [
       "<Figure size 432x216 with 2 Axes>"
      ]
     },
     "metadata": {
      "needs_background": "light"
     },
     "output_type": "display_data"
    }
   ],
   "source": [
    "face_obj = sns.FacetGrid(train, col = 'Survived')\n",
    "face_obj.map(plt.hist, 'Age', bins= 20)\n",
    "\n",
    "face_obj = sns.FacetGrid(train, col = 'Survived')\n",
    "face_obj.map(plt.hist, 'Sex', bins = 3)"
   ]
  },
  {
   "cell_type": "code",
   "execution_count": 5,
   "metadata": {},
   "outputs": [
    {
     "data": {
      "image/png": "[encoded data removed]",
      "text/plain": [
       "<Figure size 432x288 with 1 Axes>"
      ]
     },
     "metadata": {
      "needs_background": "light"
     },
     "output_type": "display_data"
    },
    {
     "data": {
      "text/plain": [
       "<matplotlib.axes._subplots.AxesSubplot at 0x24a70aac308>"
      ]
     },
     "execution_count": 5,
     "metadata": {},
     "output_type": "execute_result"
    },
    {
     "data": {
      "image/png": "[encoded data removed]",
      "text/plain": [
       "<Figure size 432x216 with 2 Axes>"
      ]
     },
     "metadata": {
      "needs_background": "light"
     },
     "output_type": "display_data"
    },
    {
     "data": {
      "image/png": "[encoded data removed]",
      "text/plain": [
       "<Figure size 720x576 with 1 Axes>"
      ]
     },
     "metadata": {
      "needs_background": "light"
     },
     "output_type": "display_data"
    }
   ],
   "source": [
    "train.Pclass.value_counts().plot(kind = 'barh')\n",
    "plt.title('Class Distribution')\n",
    "plt.show()\n",
    "\n",
    "face_obj = sns.FacetGrid(train, col = 'Survived')\n",
    "face_obj.map(plt.hist, 'Pclass')\n",
    "\n",
    "pclass_survived = train_data[train_data['Survived']==1]['Pclass'].value_counts()\n",
    "pclass_dead = train_data[train_data['Survived']==0]['Pclass'].value_counts()\n",
    "df = pd.DataFrame([pclass_survived,pclass_dead])\n",
    "df.index = ['Survived','Dead']\n",
    "df.plot(kind='bar', stacked=True, figsize=(10,8))"
   ]
  },
  {
   "cell_type": "code",
   "execution_count": 6,
   "metadata": {},
   "outputs": [
    {
     "name": "stdout",
     "output_type": "stream",
     "text": [
      "['S' 'C' 'Q' nan]\n"
     ]
    },
    {
     "data": {
      "image/png": "[encoded data removed]",
      "text/plain": [
       "<Figure size 432x288 with 1 Axes>"
      ]
     },
     "metadata": {
      "needs_background": "light"
     },
     "output_type": "display_data"
    },
    {
     "data": {
      "image/png": "[encoded data removed]",
      "text/plain": [
       "<Figure size 576x432 with 1 Axes>"
      ]
     },
     "metadata": {
      "needs_background": "light"
     },
     "output_type": "display_data"
    }
   ],
   "source": [
    "print(train.Embarked.unique())\n",
    "train.Embarked.value_counts().plot(kind='bar')\n",
    "plt.title(\"Passangers per boarding station\")\n",
    "plt.show()\n",
    "\n",
    "survived = train[train['Survived']==1]['Embarked'].value_counts()\n",
    "dead = train[train['Survived']==0]['Embarked'].value_counts()\n",
    "df = pd.DataFrame([survived, dead])\n",
    "df.index=['Survived','Dead']\n",
    "df.plot(kind= 'bar', stacked = False, figsize = (8,6))\n",
    "plt.title(\"Survival and Death in Different ports\")\n",
    "plt.show()"
   ]
  },
  {
   "cell_type": "code",
   "execution_count": 7,
   "metadata": {},
   "outputs": [
    {
     "data": {
      "image/png": "[encoded data removed]",
      "text/plain": [
       "<Figure size 432x288 with 1 Axes>"
      ]
     },
     "metadata": {
      "needs_background": "light"
     },
     "output_type": "display_data"
    }
   ],
   "source": [
    "survived_0 = train_data[train_data['Survived'] == 0][\"Fare\"].mean()\n",
    "survived_1 = train_data[train_data['Survived'] == 1][\"Fare\"].mean()\n",
    "xs  = [survived_0, survived_1]\n",
    "ys = ['Dead','Survived']\n",
    "plt.bar(ys, xs, 0.6, align='center',color = 'orange')\n",
    "plt.xlabel('Outcome')\n",
    "plt.ylabel('Mean Fare')\n",
    "plt.show()"
   ]
  },
  {
   "cell_type": "code",
   "execution_count": 8,
   "metadata": {},
   "outputs": [
    {
     "data": {
      "text/html": [
       "<div>\n",
       "<style scoped>\n",
       "    .dataframe tbody tr th:only-of-type {\n",
       "        vertical-align: middle;\n",
       "    }\n",
       "\n",
       "    .dataframe tbody tr th {\n",
       "        vertical-align: top;\n",
       "    }\n",
       "\n",
       "    .dataframe thead th {\n",
       "        text-align: right;\n",
       "    }\n",
       "</style>\n",
       "<table border=\"1\" class=\"dataframe\">\n",
       "  <thead>\n",
       "    <tr style=\"text-align: right;\">\n",
       "      <th></th>\n",
       "      <th>Survived</th>\n",
       "      <th>Pclass</th>\n",
       "      <th>Sex</th>\n",
       "      <th>Age</th>\n",
       "      <th>SibSp</th>\n",
       "      <th>Parch</th>\n",
       "      <th>Fare</th>\n",
       "      <th>Embarked_C</th>\n",
       "      <th>Embarked_Q</th>\n",
       "      <th>Embarked_S</th>\n",
       "    </tr>\n",
       "  </thead>\n",
       "  <tbody>\n",
       "    <tr>\n",
       "      <th>0</th>\n",
       "      <td>0</td>\n",
       "      <td>3</td>\n",
       "      <td>1</td>\n",
       "      <td>22.0</td>\n",
       "      <td>1</td>\n",
       "      <td>0</td>\n",
       "      <td>7.2500</td>\n",
       "      <td>0</td>\n",
       "      <td>0</td>\n",
       "      <td>1</td>\n",
       "    </tr>\n",
       "    <tr>\n",
       "      <th>1</th>\n",
       "      <td>1</td>\n",
       "      <td>1</td>\n",
       "      <td>0</td>\n",
       "      <td>38.0</td>\n",
       "      <td>1</td>\n",
       "      <td>0</td>\n",
       "      <td>71.2833</td>\n",
       "      <td>1</td>\n",
       "      <td>0</td>\n",
       "      <td>0</td>\n",
       "    </tr>\n",
       "    <tr>\n",
       "      <th>2</th>\n",
       "      <td>1</td>\n",
       "      <td>3</td>\n",
       "      <td>0</td>\n",
       "      <td>26.0</td>\n",
       "      <td>0</td>\n",
       "      <td>0</td>\n",
       "      <td>7.9250</td>\n",
       "      <td>0</td>\n",
       "      <td>0</td>\n",
       "      <td>1</td>\n",
       "    </tr>\n",
       "    <tr>\n",
       "      <th>3</th>\n",
       "      <td>1</td>\n",
       "      <td>1</td>\n",
       "      <td>0</td>\n",
       "      <td>35.0</td>\n",
       "      <td>1</td>\n",
       "      <td>0</td>\n",
       "      <td>53.1000</td>\n",
       "      <td>0</td>\n",
       "      <td>0</td>\n",
       "      <td>1</td>\n",
       "    </tr>\n",
       "    <tr>\n",
       "      <th>4</th>\n",
       "      <td>0</td>\n",
       "      <td>3</td>\n",
       "      <td>1</td>\n",
       "      <td>35.0</td>\n",
       "      <td>0</td>\n",
       "      <td>0</td>\n",
       "      <td>8.0500</td>\n",
       "      <td>0</td>\n",
       "      <td>0</td>\n",
       "      <td>1</td>\n",
       "    </tr>\n",
       "  </tbody>\n",
       "</table>\n",
       "</div>"
      ],
      "text/plain": [
       "   Survived  Pclass  Sex   Age  SibSp  Parch     Fare  Embarked_C  Embarked_Q  \\\n",
       "0         0       3    1  22.0      1      0   7.2500           0           0   \n",
       "1         1       1    0  38.0      1      0  71.2833           1           0   \n",
       "2         1       3    0  26.0      0      0   7.9250           0           0   \n",
       "3         1       1    0  35.0      1      0  53.1000           0           0   \n",
       "4         0       3    1  35.0      0      0   8.0500           0           0   \n",
       "\n",
       "   Embarked_S  \n",
       "0           1  \n",
       "1           0  \n",
       "2           1  \n",
       "3           1  \n",
       "4           1  "
      ]
     },
     "execution_count": 8,
     "metadata": {},
     "output_type": "execute_result"
    }
   ],
   "source": [
    "##Data Wrangling : converting Categoricals to numericals\n",
    "\n",
    "def wrangle(dataset):\n",
    "    \n",
    "    \"\"\"Converting data from one form to another.\n",
    "       \n",
    "       It takes one argument, a dataframe (here only Titanic dataframe, if any other dataframe is selected it might thriugh an \n",
    "       error)\n",
    "       \n",
    "       1st we will convert Sex (whose type is \"object\") to a numerical data type, which will be helpful in building\n",
    "       machine learning models.\n",
    "       2nd we will create dummies for the Embark columns\n",
    "    \"\"\"\n",
    "    \n",
    "    dataset['Sex'] = dataset['Sex'].map({'female': 0, 'male':1}).astype(int)\n",
    "    \n",
    "    embarked_seperate_port = pd.get_dummies(dataset['Embarked'], prefix ='Embarked')\n",
    "    dataset = pd.concat([dataset, embarked_seperate_port], axis = 1)\n",
    "    \n",
    "    return dataset.drop('Embarked', axis = 1)\n",
    "\n",
    "train_converted = wrangle(train)\n",
    "test_converted = wrangle(test_data)\n",
    "train_converted.head()"
   ]
  },
  {
   "cell_type": "code",
   "execution_count": 9,
   "metadata": {},
   "outputs": [
    {
     "name": "stdout",
     "output_type": "stream",
     "text": [
      "            Survived    Pclass       Sex       Age     SibSp     Parch  \\\n",
      "Survived    1.000000 -0.338481 -0.543351 -0.077221 -0.035322  0.081629   \n",
      "Pclass     -0.338481  1.000000  0.131900 -0.369226  0.083081  0.018443   \n",
      "Sex        -0.543351  0.131900  1.000000  0.093254 -0.114631 -0.245489   \n",
      "Age        -0.077221 -0.369226  0.093254  1.000000 -0.308247 -0.189119   \n",
      "SibSp      -0.035322  0.083081 -0.114631 -0.308247  1.000000  0.414838   \n",
      "Parch       0.081629  0.018443 -0.245489 -0.189119  0.414838  1.000000   \n",
      "Fare        0.257307 -0.549500 -0.182333  0.096067  0.159651  0.216225   \n",
      "Embarked_C  0.168240 -0.243292 -0.082853  0.036261 -0.059528 -0.011069   \n",
      "Embarked_Q  0.003650  0.221009 -0.074115 -0.022405 -0.026354 -0.081228   \n",
      "Embarked_S -0.155660  0.081720  0.125722 -0.032523  0.070941  0.063036   \n",
      "\n",
      "                Fare  Embarked_C  Embarked_Q  Embarked_S  \n",
      "Survived    0.257307    0.168240    0.003650   -0.155660  \n",
      "Pclass     -0.549500   -0.243292    0.221009    0.081720  \n",
      "Sex        -0.182333   -0.082853   -0.074115    0.125722  \n",
      "Age         0.096067    0.036261   -0.022405   -0.032523  \n",
      "SibSp       0.159651   -0.059528   -0.026354    0.070941  \n",
      "Parch       0.216225   -0.011069   -0.081228    0.063036  \n",
      "Fare        1.000000    0.269335   -0.117216   -0.166603  \n",
      "Embarked_C  0.269335    1.000000   -0.148258   -0.778359  \n",
      "Embarked_Q -0.117216   -0.148258    1.000000   -0.496624  \n",
      "Embarked_S -0.166603   -0.778359   -0.496624    1.000000  \n"
     ]
    },
    {
     "data": {
      "text/plain": [
       "<matplotlib.axes._subplots.AxesSubplot at 0x24a70945988>"
      ]
     },
     "execution_count": 9,
     "metadata": {},
     "output_type": "execute_result"
    },
    {
     "data": {
      "image/png": "[encoded data removed]",
      "text/plain": [
       "<Figure size 432x288 with 2 Axes>"
      ]
     },
     "metadata": {
      "needs_background": "light"
     },
     "output_type": "display_data"
    }
   ],
   "source": [
    "##Data Exploration : Correlation \n",
    "\n",
    "corr = train_converted.corr()\n",
    "print(corr)\n",
    "\n",
    "sns.heatmap(np.abs(corr),\n",
    "        xticklabels=corr.columns,\n",
    "        yticklabels=corr.columns)"
   ]
  },
  {
   "cell_type": "code",
   "execution_count": 10,
   "metadata": {},
   "outputs": [
    {
     "name": "stdout",
     "output_type": "stream",
     "text": [
      "<class 'pandas.core.frame.DataFrame'>\n",
      "RangeIndex: 891 entries, 0 to 890\n",
      "Data columns (total 10 columns):\n",
      " #   Column      Non-Null Count  Dtype  \n",
      "---  ------      --------------  -----  \n",
      " 0   Survived    891 non-null    int64  \n",
      " 1   Pclass      891 non-null    int64  \n",
      " 2   Sex         891 non-null    int32  \n",
      " 3   Age         714 non-null    float64\n",
      " 4   SibSp       891 non-null    int64  \n",
      " 5   Parch       891 non-null    int64  \n",
      " 6   Fare        891 non-null    float64\n",
      " 7   Embarked_C  891 non-null    uint8  \n",
      " 8   Embarked_Q  891 non-null    uint8  \n",
      " 9   Embarked_S  891 non-null    uint8  \n",
      "dtypes: float64(2), int32(1), int64(4), uint8(3)\n",
      "memory usage: 48.0 KB\n"
     ]
    }
   ],
   "source": [
    "train_converted.info()"
   ]
  },
  {
   "cell_type": "code",
   "execution_count": 11,
   "metadata": {},
   "outputs": [],
   "source": [
    "guess_ages = np.zeros((2,3))\n",
    "for i in range(0, 2):\n",
    "    for j in range(0, 3):\n",
    "        guess_data = train_converted[(train_converted['Sex'] == i) & (train_converted['Pclass'] == j+1)]['Age'].dropna()\n",
    "        age_guess = guess_data.median()\n",
    "        # Convert random age float to nearest .5 age\n",
    "        guess_ages[i,j] = int(age_guess/0.5 + 0.5) * 0.5\n",
    " \n",
    "def wrangle_age(dataset):\n",
    "    for i in range(0, 2):\n",
    "        for j in range(0, 3):\n",
    "            dataset.loc[ (dataset.Age.isnull()) & (dataset.Sex == i) & (dataset.Pclass == j+1),'Age'] = guess_ages[i,j]\n",
    "    dataset['Age'] = dataset['Age'].astype(int)\n",
    "    return dataset\n",
    " \n",
    "train_data = wrangle_age(train_converted)\n",
    "test_data = wrangle_age(test_converted)"
   ]
  },
  {
   "cell_type": "code",
   "execution_count": 12,
   "metadata": {},
   "outputs": [],
   "source": [
    "train_data['FamilySize'] = train_data['SibSp'] + train_data['Parch'] + 1\n",
    "test_data['FamilySize'] = test_data['SibSp'] + test_data['Parch'] + 1"
   ]
  },
  {
   "cell_type": "code",
   "execution_count": 13,
   "metadata": {},
   "outputs": [
    {
     "name": "stdout",
     "output_type": "stream",
     "text": [
      "<class 'pandas.core.frame.DataFrame'>\n",
      "RangeIndex: 891 entries, 0 to 890\n",
      "Data columns (total 11 columns):\n",
      " #   Column      Non-Null Count  Dtype  \n",
      "---  ------      --------------  -----  \n",
      " 0   Survived    891 non-null    int64  \n",
      " 1   Pclass      891 non-null    int64  \n",
      " 2   Sex         891 non-null    int32  \n",
      " 3   Age         891 non-null    int32  \n",
      " 4   SibSp       891 non-null    int64  \n",
      " 5   Parch       891 non-null    int64  \n",
      " 6   Fare        891 non-null    float64\n",
      " 7   Embarked_C  891 non-null    uint8  \n",
      " 8   Embarked_Q  891 non-null    uint8  \n",
      " 9   Embarked_S  891 non-null    uint8  \n",
      " 10  FamilySize  891 non-null    int64  \n",
      "dtypes: float64(1), int32(2), int64(5), uint8(3)\n",
      "memory usage: 51.5 KB\n",
      "None\n",
      "---------------------------------------------\n",
      "<class 'pandas.core.frame.DataFrame'>\n",
      "RangeIndex: 418 entries, 0 to 417\n",
      "Data columns (total 14 columns):\n",
      " #   Column       Non-Null Count  Dtype  \n",
      "---  ------       --------------  -----  \n",
      " 0   PassengerId  418 non-null    int64  \n",
      " 1   Pclass       418 non-null    int64  \n",
      " 2   Name         418 non-null    object \n",
      " 3   Sex          418 non-null    int32  \n",
      " 4   Age          418 non-null    int32  \n",
      " 5   SibSp        418 non-null    int64  \n",
      " 6   Parch        418 non-null    int64  \n",
      " 7   Ticket       418 non-null    object \n",
      " 8   Fare         418 non-null    float64\n",
      " 9   Cabin        91 non-null     object \n",
      " 10  Embarked_C   418 non-null    uint8  \n",
      " 11  Embarked_Q   418 non-null    uint8  \n",
      " 12  Embarked_S   418 non-null    uint8  \n",
      " 13  FamilySize   418 non-null    int64  \n",
      "dtypes: float64(1), int32(2), int64(5), object(3), uint8(3)\n",
      "memory usage: 34.0+ KB\n",
      "None\n"
     ]
    }
   ],
   "source": [
    "print(train_data.info())\n",
    "print(\"-\" * 45)\n",
    "missing = test_data['Fare'].mean()\n",
    "test_data['Fare'] = test_data['Fare'].fillna(missing)\n",
    "print(test_data.info())"
   ]
  },
  {
   "cell_type": "markdown",
   "metadata": {},
   "source": [
    "### Machine Learning Models"
   ]
  },
  {
   "cell_type": "code",
   "execution_count": 14,
   "metadata": {},
   "outputs": [],
   "source": [
    "from sklearn.linear_model import LogisticRegression\n",
    "from sklearn.ensemble import RandomForestClassifier\n",
    "from sklearn.neighbors import KNeighborsClassifier\n",
    "from sklearn.model_selection import train_test_split\n",
    "from sklearn.svm import SVC\n",
    "from sklearn.model_selection import StratifiedKFold\n",
    "from sklearn.model_selection import GridSearchCV"
   ]
  },
  {
   "cell_type": "code",
   "execution_count": 15,
   "metadata": {},
   "outputs": [],
   "source": [
    "X_train = train_data.drop(\"Survived\", axis=1)[:800]\n",
    "Y_train = train_data[\"Survived\"][:800]\n",
    "X_crossValidation = train_data.drop(\"Survived\", axis=1)[800:]\n",
    "Y_crossValidation = train_data[\"Survived\"][800:]\n",
    "X_test = test_data\n",
    "X_test = X_test.drop([\"Name\", 'Ticket', 'Cabin'], axis =1)\n",
    "X_test = X_test.drop(\"Fare\", axis =1)"
   ]
  },
  {
   "cell_type": "code",
   "execution_count": 16,
   "metadata": {},
   "outputs": [
    {
     "name": "stdout",
     "output_type": "stream",
     "text": [
      "80.25\n",
      "83.52\n"
     ]
    },
    {
     "name": "stderr",
     "output_type": "stream",
     "text": [
      "C:\\Users\\user\\anaconda3\\lib\\site-packages\\sklearn\\linear_model\\_logistic.py:940: ConvergenceWarning: lbfgs failed to converge (status=1):\n",
      "STOP: TOTAL NO. of ITERATIONS REACHED LIMIT.\n",
      "\n",
      "Increase the number of iterations (max_iter) or scale the data as shown in:\n",
      "    https://scikit-learn.org/stable/modules/preprocessing.html\n",
      "Please also refer to the documentation for alternative solver options:\n",
      "    https://scikit-learn.org/stable/modules/linear_model.html#logistic-regression\n",
      "  extra_warning_msg=_LOGISTIC_SOLVER_CONVERGENCE_MSG)\n"
     ]
    }
   ],
   "source": [
    "#Logistic Regression\n",
    "model_logistic = LogisticRegression()\n",
    "model_logistic.fit(X_train, Y_train)\n",
    "train_accuracy = round(model_logistic.score(X_train, Y_train) * 100, 2)\n",
    "validation_accuracy = round(model_logistic.score(X_crossValidation, Y_crossValidation) * 100, 2)\n",
    "Y_predL = model_logistic.predict(X_test)\n",
    "print(train_accuracy)\n",
    "print(validation_accuracy)"
   ]
  },
  {
   "cell_type": "code",
   "execution_count": 17,
   "metadata": {},
   "outputs": [
    {
     "name": "stdout",
     "output_type": "stream",
     "text": [
      "68.62\n",
      "68.13\n"
     ]
    }
   ],
   "source": [
    "# SVM model\n",
    "\n",
    "svc = SVC()\n",
    "svc.fit(X_train, Y_train)\n",
    "train_accuracy = round(svc.score(X_train, Y_train) * 100, 2)\n",
    "validation_accuracy = round(svc.score(X_crossValidation, Y_crossValidation) * 100, 2)\n",
    "Y_predS = svc.predict(X_test)\n",
    "print(train_accuracy)\n",
    "print(validation_accuracy)"
   ]
  },
  {
   "cell_type": "code",
   "execution_count": 18,
   "metadata": {},
   "outputs": [
    {
     "name": "stdout",
     "output_type": "stream",
     "text": [
      "79.38\n",
      "78.02\n"
     ]
    }
   ],
   "source": [
    "# KNearest Neighbors\n",
    "\n",
    "model_KNeighbor = KNeighborsClassifier()\n",
    "model_KNeighbor.fit(X_train, Y_train)\n",
    "train_accuracy = round(model_KNeighbor.score(X_train, Y_train) * 100, 2)\n",
    "validation_accuracy = round(model_KNeighbor.score(X_crossValidation, Y_crossValidation) * 100, 2)\n",
    "Y_predS = model_KNeighbor.predict(X_test)\n",
    "print(train_accuracy)\n",
    "print(validation_accuracy)"
   ]
  },
  {
   "cell_type": "code",
   "execution_count": 19,
   "metadata": {},
   "outputs": [
    {
     "name": "stdout",
     "output_type": "stream",
     "text": [
      "98.0\n",
      "85.71\n"
     ]
    }
   ],
   "source": [
    "#Random Forest\n",
    "model_rf = RandomForestClassifier()\n",
    "model_rf.fit(X_train, Y_train)\n",
    "train_accuracy = round(model_rf.score(X_train, Y_train) * 100, 2)\n",
    "validation_accuracy = round(model_rf.score(X_crossValidation, Y_crossValidation) * 100, 2)\n",
    "Y_predS = model_rf.predict(X_test)\n",
    "print(train_accuracy)\n",
    "print(validation_accuracy)"
   ]
  },
  {
   "cell_type": "code",
   "execution_count": 20,
   "metadata": {},
   "outputs": [
    {
     "data": {
      "text/plain": [
       "'submission = pd.DataFrame({\\n        \"PassengerId\": test_data[\"PassengerId\"],\\n        \"Survived\": Y_predS\\n    })\\nsubmission.to_csv(\\'submission.csv\\', index=False) '"
      ]
     },
     "execution_count": 20,
     "metadata": {},
     "output_type": "execute_result"
    }
   ],
   "source": [
    "#submitting the results\n",
    "\n",
    "\"\"\"submission = pd.DataFrame({\n",
    "        \"PassengerId\": test_data[\"PassengerId\"],\n",
    "        \"Survived\": Y_predS\n",
    "    })\n",
    "submission.to_csv('submission.csv', index=False) \"\"\""
   ]
  },
  {
   "cell_type": "markdown",
   "metadata": {},
   "source": [
    "Not workingdue to Stratified K fold, otherwise this is model selecstion technique, Hyper-parameter tuning\n",
    "\n",
    "\"\"\"parameter_grid = {\n",
    "             'max_depth' : [4, 6, 8],\n",
    "             'n_estimators': [10, 50,100],\n",
    "             'max_features': ['sqrt', 'auto', 'log2'],\n",
    "             'min_samples_split': [0.001,0.003,0.01],\n",
    "             'min_samples_leaf': [1, 3, 10],\n",
    "             'bootstrap': [True,False],\n",
    "             }\n",
    "\n",
    "forest = RandomForestClassifier()\n",
    "\n",
    "skf = StratifiedKFold(n_splits = 5)\n",
    "for train_index, test_index in skf.split(X_train):\n",
    "    print(\"TRAIN:\", train_index, \"TEST:\", test_index)\n",
    "    X_train1, X_test1 = X[train_index], X[test_index]\n",
    "    y_train1, y_test1 = y[train_index], y[test_index]\n",
    "\n",
    "grid_search = GridSearchCV(forest,\n",
    "                           scoring='accuracy',\n",
    "                           param_grid=parameter_grid,\n",
    "                           cv=cross_validation)\n",
    " \n",
    "grid_search.fit(X_train1, Y_train1)\n",
    "model = grid_search\n",
    "parameters = grid_search.best_params_\n",
    " \n",
    "print('Best score: {}'.format(grid_search.best_score_))\n",
    "print('Best parameters: {}'.format(grid_search.best_params_))\"\"\""
   ]
  },
  {
   "cell_type": "code",
   "execution_count": 21,
   "metadata": {},
   "outputs": [
    {
     "name": "stdout",
     "output_type": "stream",
     "text": [
      "90.5\n",
      "82.42\n"
     ]
    }
   ],
   "source": [
    "parameters = {'bootstrap': False, 'min_samples_leaf': 1, 'n_estimators': 100, \n",
    "                  'min_samples_split': 0.01, 'max_features': 'log2', 'max_depth': 8}\n",
    "model = RandomForestClassifier(**parameters)\n",
    "    \n",
    "model.fit(X_train, Y_train)\n",
    "model.fit(X_train, Y_train)\n",
    "train_accuracy = round(model.score(X_train, Y_train) * 100, 2)\n",
    "validation_accuracy = round(model.score(X_crossValidation, Y_crossValidation) * 100, 2)\n",
    "Y_pred = model.predict(X_test)\n",
    "print(train_accuracy)\n",
    "print(validation_accuracy)"
   ]
  }
 ],
 "metadata": {
  "kernelspec": {
   "display_name": "Python 3",
   "language": "python",
   "name": "python3"
  },
  "language_info": {
   "codemirror_mode": {
    "name": "ipython",
    "version": 3
   },
   "file_extension": ".py",
   "mimetype": "text/x-python",
   "name": "python",
   "nbconvert_exporter": "python",
   "pygments_lexer": "ipython3",
   "version": "3.8.3"
  }
 },
 "nbformat": 4,
 "nbformat_minor": 4
}
