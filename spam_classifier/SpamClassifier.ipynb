{
  "nbformat": 4,
  "nbformat_minor": 0,
  "metadata": {
    "colab": {
      "name": "SpamClassifier.ipynb",
      "provenance": [],
      "collapsed_sections": []
    },
    "kernelspec": {
      "name": "python3",
      "display_name": "Python 3"
    }
  },
  "cells": [
    {
      "cell_type": "code",
      "metadata": {
        "id": "AcM2M4bNkOwm"
      },
      "source": [
        "#Basic imports for EDA and model fitting\r\n",
        "import numpy as np \r\n",
        "import pandas as pd\r\n",
        "import matplotlib.pyplot as plt\r\n",
        "from sklearn.model_selection import train_test_split\r\n",
        "from sklearn.svm import SVC"
      ],
      "execution_count": 83,
      "outputs": []
    },
    {
      "cell_type": "code",
      "metadata": {
        "id": "EjT0snXWBzjr"
      },
      "source": [
        "#import regarding metrics used\r\n",
        "from sklearn.metrics import precision_score, recall_score, confusion_matrix,accuracy_score, roc_auc_score, roc_curve "
      ],
      "execution_count": 84,
      "outputs": []
    },
    {
      "cell_type": "code",
      "metadata": {
        "id": "r5xA7nEDvGrt"
      },
      "source": [
        "#Imports regarding NLP\r\n",
        "import re\r\n",
        "import nltk\r\n",
        "from nltk.stem import PorterStemmer\r\n",
        "from sklearn.feature_extraction.text import CountVectorizer"
      ],
      "execution_count": 85,
      "outputs": []
    },
    {
      "cell_type": "code",
      "metadata": {
        "colab": {
          "base_uri": "https://localhost:8080/"
        },
        "id": "X1eAd45Gvbfs",
        "outputId": "e7098eec-b80f-46fb-ee3b-fcbd10676580"
      },
      "source": [
        "#Downloading Stopwords\r\n",
        "nltk.download('stopwords')"
      ],
      "execution_count": 86,
      "outputs": [
        {
          "output_type": "stream",
          "text": [
            "[nltk_data] Downloading package stopwords to /root/nltk_data...\n",
            "[nltk_data]   Package stopwords is already up-to-date!\n"
          ],
          "name": "stdout"
        },
        {
          "output_type": "execute_result",
          "data": {
            "text/plain": [
              "True"
            ]
          },
          "metadata": {
            "tags": []
          },
          "execution_count": 86
        }
      ]
    },
    {
      "cell_type": "code",
      "metadata": {
        "id": "fdx3ybUTvh35"
      },
      "source": [
        "from nltk.corpus import stopwords"
      ],
      "execution_count": 87,
      "outputs": []
    },
    {
      "cell_type": "code",
      "metadata": {
        "colab": {
          "base_uri": "https://localhost:8080/",
          "height": 419
        },
        "id": "o-PeKFv-s7p_",
        "outputId": "ef837882-2107-4231-c790-9b7aad865c36"
      },
      "source": [
        "#Reading the input file \r\n",
        "message = pd.read_csv('/content/SMSSpamCollection.csv', sep = '\\t', names =['label', 'message'])\r\n",
        "message"
      ],
      "execution_count": 88,
      "outputs": [
        {
          "output_type": "execute_result",
          "data": {
            "text/html": [
              "<div>\n",
              "<style scoped>\n",
              "    .dataframe tbody tr th:only-of-type {\n",
              "        vertical-align: middle;\n",
              "    }\n",
              "\n",
              "    .dataframe tbody tr th {\n",
              "        vertical-align: top;\n",
              "    }\n",
              "\n",
              "    .dataframe thead th {\n",
              "        text-align: right;\n",
              "    }\n",
              "</style>\n",
              "<table border=\"1\" class=\"dataframe\">\n",
              "  <thead>\n",
              "    <tr style=\"text-align: right;\">\n",
              "      <th></th>\n",
              "      <th>label</th>\n",
              "      <th>message</th>\n",
              "    </tr>\n",
              "  </thead>\n",
              "  <tbody>\n",
              "    <tr>\n",
              "      <th>0</th>\n",
              "      <td>ham</td>\n",
              "      <td>Go until jurong point, crazy.. Available only ...</td>\n",
              "    </tr>\n",
              "    <tr>\n",
              "      <th>1</th>\n",
              "      <td>ham</td>\n",
              "      <td>Ok lar... Joking wif u oni...</td>\n",
              "    </tr>\n",
              "    <tr>\n",
              "      <th>2</th>\n",
              "      <td>spam</td>\n",
              "      <td>Free entry in 2 a wkly comp to win FA Cup fina...</td>\n",
              "    </tr>\n",
              "    <tr>\n",
              "      <th>3</th>\n",
              "      <td>ham</td>\n",
              "      <td>U dun say so early hor... U c already then say...</td>\n",
              "    </tr>\n",
              "    <tr>\n",
              "      <th>4</th>\n",
              "      <td>ham</td>\n",
              "      <td>Nah I don't think he goes to usf, he lives aro...</td>\n",
              "    </tr>\n",
              "    <tr>\n",
              "      <th>...</th>\n",
              "      <td>...</td>\n",
              "      <td>...</td>\n",
              "    </tr>\n",
              "    <tr>\n",
              "      <th>5567</th>\n",
              "      <td>spam</td>\n",
              "      <td>This is the 2nd time we have tried 2 contact u...</td>\n",
              "    </tr>\n",
              "    <tr>\n",
              "      <th>5568</th>\n",
              "      <td>ham</td>\n",
              "      <td>Will ü b going to esplanade fr home?</td>\n",
              "    </tr>\n",
              "    <tr>\n",
              "      <th>5569</th>\n",
              "      <td>ham</td>\n",
              "      <td>Pity, * was in mood for that. So...any other s...</td>\n",
              "    </tr>\n",
              "    <tr>\n",
              "      <th>5570</th>\n",
              "      <td>ham</td>\n",
              "      <td>The guy did some bitching but I acted like i'd...</td>\n",
              "    </tr>\n",
              "    <tr>\n",
              "      <th>5571</th>\n",
              "      <td>ham</td>\n",
              "      <td>Rofl. Its true to its name</td>\n",
              "    </tr>\n",
              "  </tbody>\n",
              "</table>\n",
              "<p>5572 rows × 2 columns</p>\n",
              "</div>"
            ],
            "text/plain": [
              "     label                                            message\n",
              "0      ham  Go until jurong point, crazy.. Available only ...\n",
              "1      ham                      Ok lar... Joking wif u oni...\n",
              "2     spam  Free entry in 2 a wkly comp to win FA Cup fina...\n",
              "3      ham  U dun say so early hor... U c already then say...\n",
              "4      ham  Nah I don't think he goes to usf, he lives aro...\n",
              "...    ...                                                ...\n",
              "5567  spam  This is the 2nd time we have tried 2 contact u...\n",
              "5568   ham               Will ü b going to esplanade fr home?\n",
              "5569   ham  Pity, * was in mood for that. So...any other s...\n",
              "5570   ham  The guy did some bitching but I acted like i'd...\n",
              "5571   ham                         Rofl. Its true to its name\n",
              "\n",
              "[5572 rows x 2 columns]"
            ]
          },
          "metadata": {
            "tags": []
          },
          "execution_count": 88
        }
      ]
    },
    {
      "cell_type": "code",
      "metadata": {
        "id": "Vp7ylyiSwSU3"
      },
      "source": [
        "#Initializing Stemmer for word Stemming\r\n",
        "stemmer = PorterStemmer()"
      ],
      "execution_count": 89,
      "outputs": []
    },
    {
      "cell_type": "code",
      "metadata": {
        "id": "1MszLZOLu5bF"
      },
      "source": [
        "#Initial Preprocessing steps\r\n",
        "cleaned_message = []\r\n",
        "for i in range(len(message)):\r\n",
        "  cleaned_text = re.sub('[^a-zA-Z]', ' ', message['message'][i])\r\n",
        "  cleaned_text = cleaned_text.lower()\r\n",
        "  cleaned_text = cleaned_text.split()\r\n",
        "\r\n",
        "  final_text = [stemmer.stem(text) for text in cleaned_text if text not in stopwords.words('english')]\r\n",
        "  final_text = \" \".join(final_text)\r\n",
        "  cleaned_message.append(final_text)"
      ],
      "execution_count": 90,
      "outputs": []
    },
    {
      "cell_type": "code",
      "metadata": {
        "colab": {
          "base_uri": "https://localhost:8080/"
        },
        "id": "WW9Il0p7zvNd",
        "outputId": "b6140a6e-9ca1-4f77-fb2c-a6f55e06ea15"
      },
      "source": [
        "#Using count vectorizer to create a Bag of words \r\n",
        "cv = CountVectorizer(max_features=3000)\r\n",
        "X = cv.fit_transform(cleaned_message).toarray()\r\n",
        "X"
      ],
      "execution_count": 91,
      "outputs": [
        {
          "output_type": "execute_result",
          "data": {
            "text/plain": [
              "array([[0, 0, 0, ..., 0, 0, 0],\n",
              "       [0, 0, 0, ..., 0, 0, 0],\n",
              "       [0, 0, 0, ..., 0, 0, 0],\n",
              "       ...,\n",
              "       [0, 0, 0, ..., 0, 0, 0],\n",
              "       [0, 0, 0, ..., 0, 0, 0],\n",
              "       [0, 0, 0, ..., 0, 0, 0]])"
            ]
          },
          "metadata": {
            "tags": []
          },
          "execution_count": 91
        }
      ]
    },
    {
      "cell_type": "code",
      "metadata": {
        "colab": {
          "base_uri": "https://localhost:8080/",
          "height": 419
        },
        "id": "iVyYqPJh0-rq",
        "outputId": "95f1cd69-6a59-4030-9091-c3f6b7243f5e"
      },
      "source": [
        "#mapping Ham to class label 0 and Spam to 1.\r\n",
        "message['label'] = message['label'].map({'ham': 0, 'spam':1})\r\n",
        "message"
      ],
      "execution_count": 92,
      "outputs": [
        {
          "output_type": "execute_result",
          "data": {
            "text/html": [
              "<div>\n",
              "<style scoped>\n",
              "    .dataframe tbody tr th:only-of-type {\n",
              "        vertical-align: middle;\n",
              "    }\n",
              "\n",
              "    .dataframe tbody tr th {\n",
              "        vertical-align: top;\n",
              "    }\n",
              "\n",
              "    .dataframe thead th {\n",
              "        text-align: right;\n",
              "    }\n",
              "</style>\n",
              "<table border=\"1\" class=\"dataframe\">\n",
              "  <thead>\n",
              "    <tr style=\"text-align: right;\">\n",
              "      <th></th>\n",
              "      <th>label</th>\n",
              "      <th>message</th>\n",
              "    </tr>\n",
              "  </thead>\n",
              "  <tbody>\n",
              "    <tr>\n",
              "      <th>0</th>\n",
              "      <td>0</td>\n",
              "      <td>Go until jurong point, crazy.. Available only ...</td>\n",
              "    </tr>\n",
              "    <tr>\n",
              "      <th>1</th>\n",
              "      <td>0</td>\n",
              "      <td>Ok lar... Joking wif u oni...</td>\n",
              "    </tr>\n",
              "    <tr>\n",
              "      <th>2</th>\n",
              "      <td>1</td>\n",
              "      <td>Free entry in 2 a wkly comp to win FA Cup fina...</td>\n",
              "    </tr>\n",
              "    <tr>\n",
              "      <th>3</th>\n",
              "      <td>0</td>\n",
              "      <td>U dun say so early hor... U c already then say...</td>\n",
              "    </tr>\n",
              "    <tr>\n",
              "      <th>4</th>\n",
              "      <td>0</td>\n",
              "      <td>Nah I don't think he goes to usf, he lives aro...</td>\n",
              "    </tr>\n",
              "    <tr>\n",
              "      <th>...</th>\n",
              "      <td>...</td>\n",
              "      <td>...</td>\n",
              "    </tr>\n",
              "    <tr>\n",
              "      <th>5567</th>\n",
              "      <td>1</td>\n",
              "      <td>This is the 2nd time we have tried 2 contact u...</td>\n",
              "    </tr>\n",
              "    <tr>\n",
              "      <th>5568</th>\n",
              "      <td>0</td>\n",
              "      <td>Will ü b going to esplanade fr home?</td>\n",
              "    </tr>\n",
              "    <tr>\n",
              "      <th>5569</th>\n",
              "      <td>0</td>\n",
              "      <td>Pity, * was in mood for that. So...any other s...</td>\n",
              "    </tr>\n",
              "    <tr>\n",
              "      <th>5570</th>\n",
              "      <td>0</td>\n",
              "      <td>The guy did some bitching but I acted like i'd...</td>\n",
              "    </tr>\n",
              "    <tr>\n",
              "      <th>5571</th>\n",
              "      <td>0</td>\n",
              "      <td>Rofl. Its true to its name</td>\n",
              "    </tr>\n",
              "  </tbody>\n",
              "</table>\n",
              "<p>5572 rows × 2 columns</p>\n",
              "</div>"
            ],
            "text/plain": [
              "      label                                            message\n",
              "0         0  Go until jurong point, crazy.. Available only ...\n",
              "1         0                      Ok lar... Joking wif u oni...\n",
              "2         1  Free entry in 2 a wkly comp to win FA Cup fina...\n",
              "3         0  U dun say so early hor... U c already then say...\n",
              "4         0  Nah I don't think he goes to usf, he lives aro...\n",
              "...     ...                                                ...\n",
              "5567      1  This is the 2nd time we have tried 2 contact u...\n",
              "5568      0               Will ü b going to esplanade fr home?\n",
              "5569      0  Pity, * was in mood for that. So...any other s...\n",
              "5570      0  The guy did some bitching but I acted like i'd...\n",
              "5571      0                         Rofl. Its true to its name\n",
              "\n",
              "[5572 rows x 2 columns]"
            ]
          },
          "metadata": {
            "tags": []
          },
          "execution_count": 92
        }
      ]
    },
    {
      "cell_type": "code",
      "metadata": {
        "colab": {
          "base_uri": "https://localhost:8080/"
        },
        "id": "1Na_ErUZ1L3O",
        "outputId": "9862036c-df6e-4375-e491-45a212d1c348"
      },
      "source": [
        "#To check if the dataset is imbalanced\r\n",
        "message.label.value_counts()"
      ],
      "execution_count": 93,
      "outputs": [
        {
          "output_type": "execute_result",
          "data": {
            "text/plain": [
              "0    4825\n",
              "1     747\n",
              "Name: label, dtype: int64"
            ]
          },
          "metadata": {
            "tags": []
          },
          "execution_count": 93
        }
      ]
    },
    {
      "cell_type": "code",
      "metadata": {
        "id": "rnzAYUHp2-gG",
        "colab": {
          "base_uri": "https://localhost:8080/",
          "height": 264
        },
        "outputId": "deb0bb5e-29a6-4a8b-aa5a-00cf0bd2de82"
      },
      "source": [
        "#Plotting Pie chart to view the ratio to Spam messages to Ham\r\n",
        "message['label'].value_counts().plot(kind = 'pie',  autopct='%1.0f%%')\r\n",
        "plt.title('Pie chart displaying percentage of spam messages in the dataset')\r\n",
        "plt.ylabel('')\r\n",
        "plt.show()\r\n",
        "\r\n",
        "## This piechart also indicate that we want our train/test accuracy to be greater than 87% other wise our model\r\n",
        "## is no good that just guessing every message to be \"Not Spam\". "
      ],
      "execution_count": 94,
      "outputs": [
        {
          "output_type": "display_data",
          "data": {
            "image/png": "[encoded data removed]",
            "text/plain": [
              "<Figure size 432x288 with 1 Axes>"
            ]
          },
          "metadata": {
            "tags": []
          }
        }
      ]
    },
    {
      "cell_type": "code",
      "metadata": {
        "colab": {
          "base_uri": "https://localhost:8080/"
        },
        "id": "7ImR5qgiow81",
        "outputId": "46f817ff-10c4-4b0d-de4e-a8e95956c090"
      },
      "source": [
        "# Creating output variable and doing the train test split.\r\n",
        "Y = message['label'].values\r\n",
        "X_train, X_test, y_train, y_test = train_test_split(X, Y, test_size=0.33, random_state=42)\r\n",
        "print([np.shape(X_train), np.shape(X_test)])"
      ],
      "execution_count": 95,
      "outputs": [
        {
          "output_type": "stream",
          "text": [
            "[(3733, 3000), (1839, 3000)]\n"
          ],
          "name": "stdout"
        }
      ]
    },
    {
      "cell_type": "code",
      "metadata": {
        "id": "d2jwdIVTm1VT"
      },
      "source": [
        "# Check for the various values of regularization parameter, which one gives\r\n",
        "# the best result.\r\n",
        "list_C = np.arange(0.1, 1, 0.15)\r\n",
        "train_score = np.zeros(len(list_C))\r\n",
        "test_score = np.zeros(len(list_C))\r\n",
        "p_score = np.zeros(len(list_C))\r\n",
        "r_score = np.zeros(len(list_C))\r\n",
        "count = 0\r\n",
        "for reg in list_C:\r\n",
        "  model = SVC(C = reg, kernel ='linear')\r\n",
        "  model.fit(X_train, y_train)\r\n",
        "  train_score[count] = model.score(X_train, y_train)\r\n",
        "  test_score[count] = model.score(X_test, y_test)\r\n",
        "  temp = model.predict(X_test)\r\n",
        "  p_score[count] = precision_score(y_test, temp)\r\n",
        "  r_score[count] = recall_score(y_test, temp)\r\n",
        "  count +=1"
      ],
      "execution_count": 96,
      "outputs": []
    },
    {
      "cell_type": "code",
      "metadata": {
        "colab": {
          "base_uri": "https://localhost:8080/",
          "height": 235
        },
        "id": "-BaGCWnW7rNN",
        "outputId": "f39e821a-be37-45ee-f210-cb1cd952b240"
      },
      "source": [
        "# Creating Matrix of the above for loop and selecting the best model for training \r\n",
        "matrix = np.matrix(np.c_[list_C, train_score, test_score, r_score, p_score])\r\n",
        "models = pd.DataFrame(data = matrix, columns = \r\n",
        "             ['C', 'Train Accuracy', 'Test Accuracy', 'Test Recall', 'Test Precision'])\r\n",
        "models.head(n=10)"
      ],
      "execution_count": 97,
      "outputs": [
        {
          "output_type": "execute_result",
          "data": {
            "text/html": [
              "<div>\n",
              "<style scoped>\n",
              "    .dataframe tbody tr th:only-of-type {\n",
              "        vertical-align: middle;\n",
              "    }\n",
              "\n",
              "    .dataframe tbody tr th {\n",
              "        vertical-align: top;\n",
              "    }\n",
              "\n",
              "    .dataframe thead th {\n",
              "        text-align: right;\n",
              "    }\n",
              "</style>\n",
              "<table border=\"1\" class=\"dataframe\">\n",
              "  <thead>\n",
              "    <tr style=\"text-align: right;\">\n",
              "      <th></th>\n",
              "      <th>C</th>\n",
              "      <th>Train Accuracy</th>\n",
              "      <th>Test Accuracy</th>\n",
              "      <th>Test Recall</th>\n",
              "      <th>Test Precision</th>\n",
              "    </tr>\n",
              "  </thead>\n",
              "  <tbody>\n",
              "    <tr>\n",
              "      <th>0</th>\n",
              "      <td>0.10</td>\n",
              "      <td>0.990892</td>\n",
              "      <td>0.985862</td>\n",
              "      <td>0.894309</td>\n",
              "      <td>1.000000</td>\n",
              "    </tr>\n",
              "    <tr>\n",
              "      <th>1</th>\n",
              "      <td>0.25</td>\n",
              "      <td>0.997321</td>\n",
              "      <td>0.987493</td>\n",
              "      <td>0.906504</td>\n",
              "      <td>1.000000</td>\n",
              "    </tr>\n",
              "    <tr>\n",
              "      <th>2</th>\n",
              "      <td>0.40</td>\n",
              "      <td>0.998125</td>\n",
              "      <td>0.986406</td>\n",
              "      <td>0.910569</td>\n",
              "      <td>0.986784</td>\n",
              "    </tr>\n",
              "    <tr>\n",
              "      <th>3</th>\n",
              "      <td>0.55</td>\n",
              "      <td>0.997857</td>\n",
              "      <td>0.986406</td>\n",
              "      <td>0.910569</td>\n",
              "      <td>0.986784</td>\n",
              "    </tr>\n",
              "    <tr>\n",
              "      <th>4</th>\n",
              "      <td>0.70</td>\n",
              "      <td>0.998393</td>\n",
              "      <td>0.985862</td>\n",
              "      <td>0.906504</td>\n",
              "      <td>0.986726</td>\n",
              "    </tr>\n",
              "    <tr>\n",
              "      <th>5</th>\n",
              "      <td>0.85</td>\n",
              "      <td>0.998661</td>\n",
              "      <td>0.985318</td>\n",
              "      <td>0.906504</td>\n",
              "      <td>0.982379</td>\n",
              "    </tr>\n",
              "  </tbody>\n",
              "</table>\n",
              "</div>"
            ],
            "text/plain": [
              "      C  Train Accuracy  Test Accuracy  Test Recall  Test Precision\n",
              "0  0.10        0.990892       0.985862     0.894309        1.000000\n",
              "1  0.25        0.997321       0.987493     0.906504        1.000000\n",
              "2  0.40        0.998125       0.986406     0.910569        0.986784\n",
              "3  0.55        0.997857       0.986406     0.910569        0.986784\n",
              "4  0.70        0.998393       0.985862     0.906504        0.986726\n",
              "5  0.85        0.998661       0.985318     0.906504        0.982379"
            ]
          },
          "metadata": {
            "tags": []
          },
          "execution_count": 97
        }
      ]
    },
    {
      "cell_type": "code",
      "metadata": {
        "id": "6j9tNOMeAYRO"
      },
      "source": [
        "#building the model by choosing the best value from the above table.\r\n",
        "model = SVC(C = 0.4, kernel = 'linear')\r\n",
        "model.fit(X_train, y_train)\r\n",
        "y_pred = model.predict(X_test)\r\n",
        "cm = confusion_matrix(y_test, y_pred)\r\n",
        "accuracy = accuracy_score(y_test, y_pred)"
      ],
      "execution_count": 98,
      "outputs": []
    },
    {
      "cell_type": "code",
      "metadata": {
        "colab": {
          "base_uri": "https://localhost:8080/"
        },
        "id": "hLdVQlFSA5SE",
        "outputId": "cf4e7dfa-198a-420c-9d37-e7bddb060a82"
      },
      "source": [
        "print(precision_score(y_test, y_pred))\r\n",
        "print(recall_score(y_test, y_pred))"
      ],
      "execution_count": 99,
      "outputs": [
        {
          "output_type": "stream",
          "text": [
            "0.986784140969163\n",
            "0.9105691056910569\n"
          ],
          "name": "stdout"
        }
      ]
    },
    {
      "cell_type": "code",
      "metadata": {
        "colab": {
          "base_uri": "https://localhost:8080/",
          "height": 312
        },
        "id": "411Gxm-wA_k1",
        "outputId": "d39ca30a-1010-4e5d-b0ee-b8fd59e85989"
      },
      "source": [
        "#Plotting the confusion Matrix to visualize the performance of our\r\n",
        "# model\r\n",
        "\r\n",
        "plt.clf()\r\n",
        "plt.imshow(cm, interpolation='nearest', cmap=plt.cm.Wistia)\r\n",
        "classnames = ['Ham', 'Spam']\r\n",
        "plt.title('Predicting Spam messages')\r\n",
        "plt.ylabel('Actual label')\r\n",
        "plt.xlabel('Predicted label')\r\n",
        "tick_marks = np.arange(len(classnames))\r\n",
        "plt.xticks(tick_marks, classnames, rotation=45)\r\n",
        "plt.yticks(tick_marks, classnames)\r\n",
        "s = [['TN','FP'], ['FN', 'TP']]\r\n",
        "for i in range(2):\r\n",
        "    for j in range(2):\r\n",
        "        plt.text(j,i, str(s[i][j])+\" = \"+str(cm[i][j]))\r\n",
        "plt.show()"
      ],
      "execution_count": 100,
      "outputs": [
        {
          "output_type": "display_data",
          "data": {
            "image/png": "[encoded data removed]",
            "text/plain": [
              "<Figure size 432x288 with 1 Axes>"
            ]
          },
          "metadata": {
            "tags": [],
            "needs_background": "light"
          }
        }
      ]
    },
    {
      "cell_type": "code",
      "metadata": {
        "colab": {
          "base_uri": "https://localhost:8080/",
          "height": 295
        },
        "id": "sEQfCQy6u9eD",
        "outputId": "9cb6994d-7e93-41c8-942b-e343cb044199"
      },
      "source": [
        "# plotting the AUC ROC curve to check model performance\r\n",
        "\r\n",
        "fpr, tpr, _ = roc_curve(y_test, y_pred)\r\n",
        "auc_svm = roc_auc_score(y_test, y_pred)\r\n",
        "plt.plot(fpr, tpr, linestyle = \"--\", marker = \".\", label = 'SVC (AUCROC %0.2f)' % auc_svm)\r\n",
        "\r\n",
        "plt.title(\"ROC Curve\")\r\n",
        "plt.xlabel(\"False Positive Rate\")\r\n",
        "plt.ylabel(\"True Positive Rate\")\r\n",
        "\r\n",
        "plt.legend()\r\n",
        "plt.show()"
      ],
      "execution_count": 101,
      "outputs": [
        {
          "output_type": "display_data",
          "data": {
            "image/png": "[encoded data removed]",
            "text/plain": [
              "<Figure size 432x288 with 1 Axes>"
            ]
          },
          "metadata": {
            "tags": [],
            "needs_background": "light"
          }
        }
      ]
    }
  ]
}